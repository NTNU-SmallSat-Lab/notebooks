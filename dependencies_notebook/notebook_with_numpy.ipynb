{
 "cells": [
  {
   "cell_type": "markdown",
   "metadata": {},
   "source": [
    "# notebook with non-standard imports\n",
    "This is just showing how to  include numpy\n",
    "\n",
    "To be able to import numpy in the notebook simply put in\n",
    "```python\n",
    "import numpy as np\n",
    "```\n",
    "\n",
    "and run with `Ctrl+Enter`\n",
    "\n"
   ]
  },
  {
   "cell_type": "code",
   "execution_count": null,
   "metadata": {},
   "outputs": [],
   "source": [
    "import numpy as np"
   ]
  },
  {
   "cell_type": "markdown",
   "metadata": {},
   "source": [
    "Now try to make a small array variable with\n",
    "\n",
    "```python\n",
    "variable_name = np.array([1,2,3])\n",
    "```\n",
    "\n",
    "and print it"
   ]
  },
  {
   "cell_type": "code",
   "execution_count": null,
   "metadata": {},
   "outputs": [],
   "source": [
    "variable_name = np.array([1,2,3])\n",
    "print(variable_name)"
   ]
  }
 ],
 "metadata": {
  "kernelspec": {
   "display_name": "Python 3",
   "language": "python",
   "name": "python3"
  },
  "language_info": {
   "codemirror_mode": {
    "name": "ipython",
    "version": 3
   },
   "file_extension": ".py",
   "mimetype": "text/x-python",
   "name": "python",
   "nbconvert_exporter": "python",
   "pygments_lexer": "ipython3",
   "version": "3.6.9"
  }
 },
 "nbformat": 4,
 "nbformat_minor": 4
}
